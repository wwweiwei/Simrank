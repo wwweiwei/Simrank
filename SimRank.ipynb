{
 "cells": [
  {
   "cell_type": "markdown",
   "metadata": {},
   "source": [
    "## 2020 Massive Data Analysis Term Project\n",
    "## SimRank\n",
    "Group32 - 106070038 杜葳葳"
   ]
  },
  {
   "cell_type": "markdown",
   "metadata": {},
   "source": [
    "SimRank 用於處理由用戶與物品所構成的 Bipartite(二部圖),<br>\n",
    "如果兩個用戶相似,則與這兩個互相關聯的物品也類似,<br>\n",
    "如果兩個物品相似,則與這兩個物品相關的用戶也類似<br>"
   ]
  },
  {
   "cell_type": "markdown",
   "metadata": {},
   "source": [
    "### 匯入 SparkConf、SparkContext、Pyspark模組 \n",
    "設定環境變數（解決版本問題）"
   ]
  },
  {
   "cell_type": "code",
   "execution_count": 1,
   "metadata": {},
   "outputs": [],
   "source": [
    "# import package\n",
    "from pyspark import SparkConf,SparkContext\n",
    "import pyspark\n",
    "\n",
    "# set environment variables\n",
    "import os\n",
    "os.environ[\"PYSPARK_PYTHON\"]=\"/Library/Frameworks/Python.framework/Versions/3.9/bin/python3.9\"\n",
    "os.environ['PYSPARK_DRIVER_PYTHON'] = '/Library/Frameworks/Python.framework/Versions/3.9/bin/python3.9'"
   ]
  },
  {
   "cell_type": "code",
   "execution_count": 2,
   "metadata": {},
   "outputs": [],
   "source": [
    "sc.stop()"
   ]
  },
  {
   "cell_type": "markdown",
   "metadata": {},
   "source": [
    "建立 SparkConf 物件 \n",
    "設為 local 模式、名稱設為 \"final\""
   ]
  },
  {
   "cell_type": "code",
   "execution_count": 3,
   "metadata": {},
   "outputs": [
    {
     "data": {
      "text/html": [
       "\n",
       "        <div>\n",
       "            <p><b>SparkContext</b></p>\n",
       "\n",
       "            <p><a href=\"http://sd204175.ya.ab.nthu.edu.tw:4040\">Spark UI</a></p>\n",
       "\n",
       "            <dl>\n",
       "              <dt>Version</dt>\n",
       "                <dd><code>v3.0.1</code></dd>\n",
       "              <dt>Master</dt>\n",
       "                <dd><code>local</code></dd>\n",
       "              <dt>AppName</dt>\n",
       "                <dd><code>final</code></dd>\n",
       "            </dl>\n",
       "        </div>\n",
       "        "
      ],
      "text/plain": [
       "<SparkContext master=local appName=final>"
      ]
     },
     "execution_count": 3,
     "metadata": {},
     "output_type": "execute_result"
    }
   ],
   "source": [
    "conf = SparkConf().setMaster(\"local\").setAppName(\"final\")\n",
    "sc = SparkContext(conf=conf)\n",
    "sc"
   ]
  },
  {
   "cell_type": "markdown",
   "metadata": {},
   "source": [
    "### 讀檔案"
   ]
  },
  {
   "cell_type": "code",
   "execution_count": 535,
   "metadata": {},
   "outputs": [
    {
     "data": {
      "text/plain": [
       "['pc,hp.com']"
      ]
     },
     "execution_count": 535,
     "metadata": {},
     "output_type": "execute_result"
    }
   ],
   "source": [
    "lines = sc.textFile(\"sample1.txt\")\n",
    "#lines.first\n",
    "lines.take(1)"
   ]
  },
  {
   "cell_type": "code",
   "execution_count": 536,
   "metadata": {},
   "outputs": [],
   "source": [
    "Split_RDD = lines.map(lambda x : x.split(\",\")).map(lambda x: (str(x[0]),str(x[1])))\n",
    "total_len = Split_RDD.count()"
   ]
  },
  {
   "cell_type": "markdown",
   "metadata": {},
   "source": [
    "> total_len: 118"
   ]
  },
  {
   "cell_type": "markdown",
   "metadata": {},
   "source": [
    "### 前處理"
   ]
  },
  {
   "cell_type": "markdown",
   "metadata": {},
   "source": [
    "quries_sum: 各個quries分別的ads數加總 <br>\n",
    "q_list: 所有quries的名稱（不重複）<br>\n",
    "ads_sum: 各個ads分別的quries數加總 <br>\n",
    "a_list: 所有ads的名稱（不重複）<br>"
   ]
  },
  {
   "cell_type": "code",
   "execution_count": 537,
   "metadata": {},
   "outputs": [],
   "source": [
    "queries_sum = Split_RDD.map(lambda x: (x[0],1)).reduceByKey(lambda x,y: x+y)\n",
    "q_list = queries_sum.map(lambda x: (x[0]))\n",
    "ads_sum = Split_RDD.map(lambda x: (x[1],1)).reduceByKey(lambda x,y: x+y)\n",
    "ads_list = ads_sum.map(lambda x: (x[0]))"
   ]
  },
  {
   "cell_type": "markdown",
   "metadata": {},
   "source": [
    "> queries_sum: [('pc', 10), ('camera', 25), ('digital camera', 37), ('tv', 15), ('flower', 31)]<br>\n",
    "> ads_sum: [('hp.com', 60), ('bestbuy.com', 27), ('teleflora.com', 16), ('orchids.com', 15)]<br>\n",
    "> q_list: ['pc', 'camera', 'digital camera', 'tv', 'flower'] <br>\n",
    "> ads_list: ['hp.com', 'bestbuy.com', 'teleflora.com', 'orchids.com']"
   ]
  },
  {
   "cell_type": "markdown",
   "metadata": {},
   "source": [
    "### 建立graph\n",
    "計算每個query-ad pair出現的次數<br>\n",
    "**query_ad_pair**: (query, ad), times"
   ]
  },
  {
   "cell_type": "code",
   "execution_count": 538,
   "metadata": {},
   "outputs": [
    {
     "data": {
      "text/plain": [
       "[(('pc', 'hp.com'), 10),\n",
       " (('camera', 'hp.com'), 20),\n",
       " (('camera', 'bestbuy.com'), 5),\n",
       " (('digital camera', 'hp.com'), 30),\n",
       " (('digital camera', 'bestbuy.com'), 7),\n",
       " (('tv', 'bestbuy.com'), 15),\n",
       " (('flower', 'teleflora.com'), 16),\n",
       " (('flower', 'orchids.com'), 15)]"
      ]
     },
     "execution_count": 538,
     "metadata": {},
     "output_type": "execute_result"
    }
   ],
   "source": [
    "query_ad_pair = Split_RDD.map(lambda x: ((x[0],x[1]),1)).reduceByKey(lambda x,y: x+y)\n",
    "query_ad_pair.collect()"
   ]
  },
  {
   "cell_type": "markdown",
   "metadata": {},
   "source": [
    "map 出一個 #queries x #ads 的矩陣<br>\n",
    "key 是 (query, ad), value 是 0<br>\n",
    "再把此矩陣和 query_ad_pair union<br>\n",
    "得到一個新矩陣 graph<br>\n",
    "**graph**: (query, ad), times"
   ]
  },
  {
   "cell_type": "code",
   "execution_count": 539,
   "metadata": {},
   "outputs": [],
   "source": [
    "N = q_list.cartesian(ads_list).map(lambda x: (x, 0))\n",
    "graph = N.union(query_ad_pair)"
   ]
  },
  {
   "cell_type": "code",
   "execution_count": 540,
   "metadata": {},
   "outputs": [
    {
     "data": {
      "text/plain": [
       "[(('pc', 'hp.com'), 0),\n",
       " (('pc', 'bestbuy.com'), 0),\n",
       " (('pc', 'teleflora.com'), 0),\n",
       " (('pc', 'orchids.com'), 0),\n",
       " (('camera', 'hp.com'), 0),\n",
       " (('digital camera', 'hp.com'), 0),\n",
       " (('camera', 'bestbuy.com'), 0),\n",
       " (('camera', 'teleflora.com'), 0),\n",
       " (('digital camera', 'bestbuy.com'), 0),\n",
       " (('digital camera', 'teleflora.com'), 0),\n",
       " (('camera', 'orchids.com'), 0),\n",
       " (('digital camera', 'orchids.com'), 0),\n",
       " (('tv', 'hp.com'), 0),\n",
       " (('flower', 'hp.com'), 0),\n",
       " (('tv', 'bestbuy.com'), 0),\n",
       " (('tv', 'teleflora.com'), 0),\n",
       " (('flower', 'bestbuy.com'), 0),\n",
       " (('flower', 'teleflora.com'), 0),\n",
       " (('tv', 'orchids.com'), 0),\n",
       " (('flower', 'orchids.com'), 0),\n",
       " (('pc', 'hp.com'), 10),\n",
       " (('camera', 'hp.com'), 20),\n",
       " (('camera', 'bestbuy.com'), 5),\n",
       " (('digital camera', 'hp.com'), 30),\n",
       " (('digital camera', 'bestbuy.com'), 7),\n",
       " (('tv', 'bestbuy.com'), 15),\n",
       " (('flower', 'teleflora.com'), 16),\n",
       " (('flower', 'orchids.com'), 15)]"
      ]
     },
     "execution_count": 540,
     "metadata": {},
     "output_type": "execute_result"
    }
   ],
   "source": [
    "graph.collect()"
   ]
  },
  {
   "cell_type": "markdown",
   "metadata": {},
   "source": [
    "### Function\n",
    "identity() <br>\n",
    "用來map出矩陣對角線上為1, 其他皆是0的rdd"
   ]
  },
  {
   "cell_type": "code",
   "execution_count": 541,
   "metadata": {},
   "outputs": [],
   "source": [
    "def identity(x):\n",
    "    if x[0][0] == x[0][1] : return ((x[0][0],x[0][1]),1)\n",
    "    return ((x[0][0],x[0][1]),0)"
   ]
  },
  {
   "cell_type": "code",
   "execution_count": 542,
   "metadata": {},
   "outputs": [
    {
     "data": {
      "text/plain": [
       "[(('hp.com', 'hp.com'), 1),\n",
       " (('hp.com', 'bestbuy.com'), 0),\n",
       " (('hp.com', 'teleflora.com'), 0),\n",
       " (('hp.com', 'orchids.com'), 0),\n",
       " (('bestbuy.com', 'hp.com'), 0),\n",
       " (('teleflora.com', 'hp.com'), 0),\n",
       " (('bestbuy.com', 'bestbuy.com'), 1),\n",
       " (('bestbuy.com', 'teleflora.com'), 0),\n",
       " (('teleflora.com', 'bestbuy.com'), 0),\n",
       " (('teleflora.com', 'teleflora.com'), 1),\n",
       " (('bestbuy.com', 'orchids.com'), 0),\n",
       " (('teleflora.com', 'orchids.com'), 0),\n",
       " (('orchids.com', 'hp.com'), 0),\n",
       " (('orchids.com', 'bestbuy.com'), 0),\n",
       " (('orchids.com', 'teleflora.com'), 0),\n",
       " (('orchids.com', 'orchids.com'), 1)]"
      ]
     },
     "execution_count": 542,
     "metadata": {},
     "output_type": "execute_result"
    }
   ],
   "source": [
    "query_sim = q_list.cartesian(q_list).map(lambda x: (x, 0)).map(identity)\n",
    "ad_sim = ads_list.cartesian(ads_list).map(lambda x: (x, 0)).map(identity)\n",
    "ad_sim.collect()"
   ]
  },
  {
   "cell_type": "code",
   "execution_count": 543,
   "metadata": {},
   "outputs": [],
   "source": [
    "from operator import add\n",
    "graph_q = graph.map(lambda x: (x[0][0], x[1]))\n",
    "q_sum = graph_q.reduceByKey(add).map(lambda x: (x[0],x[1]))\n",
    "graph_ads = graph.map(lambda x: (x[0][1], x[1]))\n",
    "ads_sum = graph_ads.reduceByKey(add).map(lambda x: (x[0],x[1]))"
   ]
  },
  {
   "cell_type": "markdown",
   "metadata": {},
   "source": [
    "> q_sum: <br>\n",
    "> [('pc', 10), <br>\n",
    ">  ('flower', 31), <br>\n",
    ">  ('camera', 25), <br>\n",
    ">  ('digital camera', 37), <br>\n",
    ">  ('tv', 15)]<br><br>\n",
    "> ads_sum: <br>\n",
    "> [('hp.com', 60),<br>\n",
    "> ('teleflora.com', 16),<br>\n",
    "> ('bestbuy.com', 27),<br>\n",
    "> ('orchids.com', 15)]"
   ]
  },
  {
   "cell_type": "markdown",
   "metadata": {},
   "source": [
    "### 參數設定\n",
    "C: 常數 <br>"
   ]
  },
  {
   "cell_type": "code",
   "execution_count": 556,
   "metadata": {},
   "outputs": [],
   "source": [
    "C = 0.8"
   ]
  },
  {
   "cell_type": "markdown",
   "metadata": {},
   "source": [
    "### SimRank 算法\n",
    "- if a=b => s(a,b)=1\n",
    "- else if 指向結點a的結點集合or指向結點b的結點集合是空集合 => s(a,b)=0\n",
    "- else 其他情況 => s(a,b)=$[\\frac{C}{|I(a)||I(b)|}]$ $\\Sigma$$\\Sigma$s(I(a),I(b))\n"
   ]
  },
  {
   "cell_type": "markdown",
   "metadata": {},
   "source": [
    "### SimRank 實作\n",
    "\n",
    "分成兩部分<br>\n",
    "queries simrank 和 ads simrank<br>\n",
    "#### 建立query_sim、ad_sim\n",
    "分別初始化 query 和 ad 的 simrank 矩陣 <br>\n",
    "對角線上為1, 其他為0 \n",
    "#### Queries SimRank\n",
    "把在對角線上(q1=q2)和不在對角線上(q1!=q2)用filter分開處理<br>\n",
    "- 在對角線上(q1=q2): 把value設為1\n",
    "- 不在對角線上(q1!=q2): 分為Prefix和Postfix兩個部分\n",
    "    - Prefix: $[\\frac{C}{|I(a)||I(b)|}]$\n",
    "        - 把a和b分別當成key,找到q_sum中的value\n",
    "        - 相乘取倒數,再乘上常數C\n",
    "    - Postfix: $\\Sigma$$\\Sigma$s(I(a),I(b))\n",
    "        - 用上面prefix的key當成新的key,map到graph的value,同時把value＝0的刪除\n",
    "        - 把key變成ads,並把重複的刪除\n",
    "        - 用cartesian重新map出新的rdd,並到ad_sim取值,再把所有value加總\n",
    "    - 完成之後把Prefix和Postfix相乘,再和(q1=q2)的union在一起 \n",
    "    \n",
    "#### Ads SimRank\n",
    "按照queries simrank的步驟, 但將queries改為ads, ad_sim改為q_sim"
   ]
  },
  {
   "cell_type": "code",
   "execution_count": 557,
   "metadata": {},
   "outputs": [],
   "source": [
    "query_sim = q_list.cartesian(q_list).map(lambda x: (x, 0)).map(identity)\n",
    "ad_sim = ads_list.cartesian(ads_list).map(lambda x: (x, 0)).map(identity)\n",
    "    \n",
    "# queries simrank\n",
    "new_query_sim = q_list.cartesian(q_list).map(lambda x: (x, 0)).map(identity)\n",
    "\n",
    "## q1 == q2\n",
    "same_new_query_sim = new_query_sim.filter(lambda r: r[0][0]==r[0][1]).map(lambda x: ((x[0][0],x[0][1]),x[1]))\n",
    "\n",
    "## q1 != q2 \n",
    "### Prefix\n",
    "#### q1, ((q2,new_query_sim_val),q1_q_sum)\n",
    "not_same_new_query_sim =  new_query_sim.filter(lambda r: r[0][0]!=r[0][1]).map(lambda x: (x[0][0],(x[0][1],x[1]))).join(q_sum)\n",
    "#### q2, (q1,new_query_sim_val,q1_q_sum,q2_q_sum)\n",
    "not_same_new_query_sim =  not_same_new_query_sim.map(lambda x: (x[1][0][0],(x[0],x[1][0][1],x[1][1]))).join(q_sum)\n",
    "#### (q1,q2),C/(q1_q_sum*q2_q_sum)\n",
    "prefix_q = not_same_new_query_sim.map(lambda x: ((x[1][0][0],x[0]),C/(x[1][0][2]*x[1][1])))\n",
    "\n",
    "\n",
    "### Postfix\n",
    "q1q2 = prefix_q.map(lambda x: ((x[0][0]),x[0][1]))\n",
    "q2q1 = prefix_q.map(lambda x: ((x[0][1]),x[0][0]))\n",
    "#### q,(ad,val)\n",
    "graph_q = graph.map(lambda x: ((x[0][0]),(x[0][1],x[1])))\n",
    "#### join => q1,(q2,(ad,val)) if val!=0\n",
    "#### q1,(q2,ad,val)->ad, (q1,q2,val)\n",
    "get_ads_q1 = q1q2.join(graph_q).filter(lambda r: r[1][1][1]!=0).map(lambda x:((x[1][1][0]),(x[0],x[1][0],x[1][1][1])))\n",
    "get_ads_q2 = q2q1.join(graph_q).filter(lambda r: r[1][1][1]!=0).map(lambda x:((x[1][1][0]),(x[0],x[1][0],x[1][1][1])))\n",
    "\n",
    "### get all ads\n",
    "merge_ad_q1_list = get_ads_q1.keys().collect()\n",
    "merge_ad_q2_list = get_ads_q2.keys().collect()\n",
    "\n",
    "### delete duplicate and change to rdd\n",
    "merge_ad_q1_set = set(merge_ad_q1_list)\n",
    "merge_ad_q1_list = list(merge_ad_q1_set)\n",
    "merge_ad_q2_set = set(merge_ad_q2_list)\n",
    "merge_ad_q2_list = list(merge_ad_q2_set)\n",
    "merge_ad_q1_rdd = sc.parallelize(merge_ad_q1_list)\n",
    "merge_ad_q2_rdd = sc.parallelize(merge_ad_q2_list)\n",
    "\n",
    "postfix_index = merge_ad_q1_rdd.cartesian(merge_ad_q2_rdd).map(lambda x: (x, 0))\n",
    "### (ad1,ad2),(0,ad_sim) -> (ad1,ad2),(ad_sim) \n",
    "postfix_q = postfix_index.join(ad_sim).map(lambda x:((x[0][0],x[0][1]),x[1][1])).values().sum()\n",
    "\n",
    "pp = prefix_q.map(lambda x : ((x[0][0],x[0][1]),x[1]*postfix_q))\n",
    "## merge same and not same\n",
    "pp = pp.union(same_new_query_sim)\n",
    "\n",
    "\n",
    "# ads simrank\n",
    "new_ad_sim = ads_list.cartesian(ads_list).map(lambda x: (x, 0)).map(identity)\n",
    "\n",
    "## ads1 == ads2\n",
    "same_new_ad_sim = new_ad_sim.filter(lambda r: r[0][0]==r[0][1]).map(lambda x: ((x[0][0],x[0][1]),x[1]))\n",
    "\n",
    "## ads1 != ads2 prefix\n",
    "### ads1, ((ads2,new_ad_sim_val),ads1_ads_sum)\n",
    "not_same_new_ad_sim =  new_ad_sim.filter(lambda r: r[0][0]!=r[0][1]).map(lambda x: (x[0][0],(x[0][1],x[1]))).join(ads_sum)\n",
    "### ads2, (ads1,new_ad_sim_val,ads1_ads_sum,ads2_ads_sum)\n",
    "not_same_new_ad_sim =  not_same_new_ad_sim.map(lambda x: (x[1][0][0],(x[0],x[1][0][1],x[1][1]))).join(ads_sum)\n",
    "\n",
    "### (ads1,ads2),C/(ads1_ads_sum*ads2_ads_sum)\n",
    "prefix_a = not_same_new_ad_sim.map(lambda x: ((x[1][0][0],x[0]),C/(x[1][0][2]*x[1][1])))\n",
    "\n",
    "## ads1 != ads2 postfix\n",
    "### ads1,ads2\n",
    "a1a2 = prefix_a.map(lambda x: ((x[0][0]),x[0][1]))\n",
    "a2a1 = prefix_a.map(lambda x: ((x[0][1]),x[0][0]))\n",
    "### ad,(q,val)\n",
    "graph_a = graph.map(lambda x: ((x[0][1]),(x[0][0],x[1])))\n",
    "### join => ads1,(ads2,(q,val))\n",
    "### q1,(q2,ad,val)->ad, (q1,q2,val)\n",
    "get_q_a1 = a1a2.join(graph_a).filter(lambda r: r[1][1][1]!=0).map(lambda x:((x[1][1][0]),(x[0],x[1][0],x[1][1][1])))\n",
    "get_q_a2 = a2a1.join(graph_a).filter(lambda r: r[1][1][1]!=0).map(lambda x:((x[1][1][0]),(x[0],x[1][0],x[1][1][1])))\n",
    "\n",
    "### get all quries\n",
    "merge_q_ad1_list = get_q_a1.keys().collect()\n",
    "merge_q_ad2_list = get_q_a2.keys().collect()\n",
    "\n",
    "### delete duplicate and change to rdd\n",
    "merge_q_ad1_set = set(merge_q_ad1_list)\n",
    "merge_q_ad1_list = list(merge_q_ad1_set)\n",
    "merge_q_ad2_set = set(merge_q_ad2_list)\n",
    "merge_q_ad2_list = list(merge_q_ad2_set)\n",
    "merge_q_ad1_rdd = sc.parallelize(merge_q_ad1_list)\n",
    "merge_q_ad2_rdd = sc.parallelize(merge_q_ad2_list)\n",
    "\n",
    "postfix_index = merge_q_ad1_rdd.cartesian(merge_q_ad2_rdd).map(lambda x: (x, 0))\n",
    "\n",
    "### (ad1,ad2),(0,ad_sim) -> (ad1,ad2),(ad_sim)\n",
    "postfix_a = postfix_index.join(query_sim).map(lambda x:((x[0][0],x[0][1]),x[1][1])).values().sum()\n",
    "\n",
    "aa = prefix_a.map(lambda x : ((x[0][0],x[0][1]),x[1]*postfix_a))\n",
    "aa = aa.union(same_new_ad_sim)\n",
    "\n",
    "query_sim = pp.map(lambda x : ((x[0][0],x[0][1]),x[1]))\n",
    "ad_sim = aa.map(lambda x : ((x[0][0],x[0][1]),x[1]))"
   ]
  },
  {
   "cell_type": "markdown",
   "metadata": {},
   "source": [
    "### 修改輸出格式"
   ]
  },
  {
   "cell_type": "code",
   "execution_count": 558,
   "metadata": {},
   "outputs": [],
   "source": [
    "q = q_list.collect()\n",
    "a = ads_list.collect()\n",
    "output_query_sim = query_sim.map(lambda x: (x[0][0],x[0][1],x[1])).collect()\n",
    "output_ad_sim = ad_sim.map(lambda x: (x[0][0],x[0][1],x[1])).collect()\n",
    "output_query = []\n",
    "output_ad = []\n",
    "for i in range(len(q)):\n",
    "    for j in range(len(q)):\n",
    "        for k in range(len(output_query_sim)):\n",
    "            if q[i]==output_query_sim[k][0] and q[j]==output_query_sim[k][1]:\n",
    "                output_query.append(output_query_sim[k][2])\n",
    "for i in range(len(a)):\n",
    "    for j in range(len(a)):        \n",
    "        for k in range(len(output_ad_sim)):\n",
    "            if a[i]==output_ad_sim[k][0] and a[j]==output_ad_sim[k][1]:            \n",
    "                output_ad.append(output_ad_sim[k][2])"
   ]
  },
  {
   "cell_type": "markdown",
   "metadata": {},
   "source": [
    "### Output: Query SimRank\n",
    "各個Query之間的相似度"
   ]
  },
  {
   "cell_type": "code",
   "execution_count": 559,
   "metadata": {},
   "outputs": [
    {
     "name": "stdout",
     "output_type": "stream",
     "text": [
      "['pc', 'camera', 'digital camera', 'tv', 'flower']\n",
      "[1, 0.013, 0.009, 0.021, 0.01]\n",
      "[0.013, 1, 0.003, 0.009, 0.004]\n",
      "[0.009, 0.003, 1, 0.006, 0.003]\n",
      "[0.021, 0.009, 0.006, 1, 0.007]\n",
      "[0.01, 0.004, 0.003, 0.007, 1]\n"
     ]
    }
   ],
   "source": [
    "## output query sim\n",
    "print(q)\n",
    "output_row = []\n",
    "for i in range(len(output_query)):\n",
    "    output_row.append(round(output_query[i],3))\n",
    "    if (i+1)%len(q)==0:\n",
    "        print(output_row)\n",
    "        output_row = []"
   ]
  },
  {
   "cell_type": "markdown",
   "metadata": {},
   "source": [
    "> 'pc', 'camera', 'digital camera', 'tv', 'flower'<br>\n",
    "> [1, 0.013, 0.009, 0.022, 0.011]<br>\n",
    "> [0.013, 1, 0.004, 0.009, 0.004]<br>\n",
    "> [0.009, 0.004, 1, 0.006, 0.003]<br>\n",
    "> [0.022, 0.009, 0.006, 1, 0.007]<br>\n",
    "> [0.011, 0.004, 0.003, 0.007, 1]"
   ]
  },
  {
   "cell_type": "markdown",
   "metadata": {},
   "source": [
    "### Output: Ads SimRank\n",
    "各個Ads之間的相似度"
   ]
  },
  {
   "cell_type": "code",
   "execution_count": 560,
   "metadata": {},
   "outputs": [
    {
     "name": "stdout",
     "output_type": "stream",
     "text": [
      "['hp.com', 'bestbuy.com', 'teleflora.com', 'orchids.com']\n",
      "[1, 0.002, 0.004, 0.004]\n",
      "[0.002, 1, 0.009, 0.01]\n",
      "[0.004, 0.009, 1, 0.017]\n",
      "[0.004, 0.01, 0.017, 1]\n"
     ]
    }
   ],
   "source": [
    "## output ad sim\n",
    "print(a)\n",
    "output_row = []\n",
    "for i in range(len(output_ad)):\n",
    "    output_row.append(round(output_ad[i],3))\n",
    "    if (i+1)%len(a)==0:\n",
    "        print(output_row)\n",
    "        output_row = []"
   ]
  },
  {
   "cell_type": "markdown",
   "metadata": {},
   "source": [
    "> 'hp.com', 'bestbuy.com', 'teleflora.com', 'orchids.com'<br>\n",
    "> [1, 0.003, 0.004, 0.005]<br>\n",
    "> [0.003, 1, 0.01, 0.01]<br>\n",
    "> [0.004, 0.01, 1, 0.017]<br>\n",
    "> [0.005, 0.01, 0.017, 1]"
   ]
  }
 ],
 "metadata": {
  "kernelspec": {
   "display_name": "Python 3",
   "language": "python",
   "name": "python3"
  },
  "language_info": {
   "codemirror_mode": {
    "name": "ipython",
    "version": 3
   },
   "file_extension": ".py",
   "mimetype": "text/x-python",
   "name": "python",
   "nbconvert_exporter": "python",
   "pygments_lexer": "ipython3",
   "version": "3.9.0"
  }
 },
 "nbformat": 4,
 "nbformat_minor": 4
}
